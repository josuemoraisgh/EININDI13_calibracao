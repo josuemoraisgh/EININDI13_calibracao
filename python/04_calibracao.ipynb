{
  "cells": [
    {
      "cell_type": "code",
      "execution_count": 1,
      "metadata": {
        "id": "THlmtrZLqhmo"
      },
      "outputs": [],
      "source": [
        "from scipy.stats import t\n",
        "from scipy.linalg import pinvh as inv\n",
        "from numpy.linalg import lstsq\n",
        "import numpy.matlib as mb\n",
        "import ipywidgets as widgets\n",
        "import math as mt\n",
        "import numpy as np\n",
        "import pandas as pd\n",
        "import re   "
      ]
    },
    {
      "cell_type": "markdown",
      "metadata": {
        "id": "tE1PP1ssSnRy"
      },
      "source": [
        "# Calibração"
      ]
    },
    {
      "cell_type": "code",
      "execution_count": 2,
      "metadata": {
        "id": "niFZUHFGSaqU"
      },
      "outputs": [],
      "source": [
        "def MMQ(y, mx):\n",
        "  coef = (inv(mx.T @ mx)) @ (mx.T @ y) # Faz a linearização com os dados\n",
        "  return (coef)"
      ]
    },
    {
      "cell_type": "code",
      "execution_count": 4,
      "metadata": {
        "id": "4rpNL-sUg5Sx"
      },
      "outputs": [],
      "source": [
        "def RMSE(yReal, yEstimado): # root-mean-square deviation\n",
        "  residuos = np.sum(np.power((yReal - yEstimado),2))**0.5\n",
        "  return(residuos)"
      ]
    },
    {
      "cell_type": "code",
      "execution_count": 7,
      "metadata": {},
      "outputs": [],
      "source": [
        "def calcular_r2(y_true, y_pred):\n",
        "    \"\"\"\n",
        "    Calcula o coeficiente de determinação R².\n",
        "    \n",
        "    Parâmetros:\n",
        "    y_true: array-like, Valores observados (reais).\n",
        "    y_pred: array-like, Valores preditos pelo modelo.\n",
        "    \n",
        "    Retorno:\n",
        "    r2: float, Coeficiente de determinação R².\n",
        "    \"\"\"\n",
        "    # Converter para arrays do NumPy, caso não sejam\n",
        "    y_true = np.array(y_true)\n",
        "    y_pred = np.array(y_pred)\n",
        "    \n",
        "    # Média dos valores observados\n",
        "    y_mean = np.mean(y_true)\n",
        "    \n",
        "    # Soma dos quadrados dos resíduos (SSR)\n",
        "    ss_res = np.sum((y_true - y_pred) ** 2)\n",
        "    \n",
        "    # Soma total dos quadrados (SST)\n",
        "    ss_tot = np.sum((y_true - y_mean) ** 2)\n",
        "    \n",
        "    # Cálculo de R²\n",
        "    r2 = 1 - (ss_res / ss_tot)\n",
        "    \n",
        "    return r2"
      ]
    },
    {
      "cell_type": "markdown",
      "metadata": {
        "id": "obBN3LMNi5Pl"
      },
      "source": [
        "## Caso 1: Sistema de 1º Ordem sendo avaliado por diversas ordens"
      ]
    },
    {
      "cell_type": "code",
      "execution_count": 8,
      "metadata": {
        "id": "TdX-MdZesT8-"
      },
      "outputs": [],
      "source": [
        "x = np.matrix(np.arange(0,10,1)+np.random.uniform(0,1,10))\n",
        "y = np.matrix((56*x+32)+(np.random.uniform(0,1,10)))"
      ]
    },
    {
      "cell_type": "code",
      "execution_count": 7,
      "metadata": {
        "colab": {
          "base_uri": "https://localhost:8080/"
        },
        "id": "JRaZlrBwYzqz",
        "outputId": "ffd3258c-14db-4f5b-c778-cd9d1b50d45a"
      },
      "outputs": [
        {
          "name": "stdout",
          "output_type": "stream",
          "text": [
            "[[55.99943849]] [[32.43062493]]\n",
            "[[ 72.74929145 143.93331154 148.04003844 201.41325779 287.06042949\n",
            "  331.06678746 409.84059158 468.44610692 521.56227224 550.71980018]] \n",
            " [[ 72.62048914 143.96242582 148.25642218 201.69992545 286.64616316\n",
            "  330.7443595  410.17156798 468.58853404 521.05140136 551.09059846]]\n",
            "0.974846444775614\n",
            "0.9999963521242358\n"
          ]
        }
      ],
      "source": [
        "tam = np.size(x.T,0) # Quantidade de valores analisados\n",
        "mx = np.concatenate((x.T, np.ones((tam,1))),1)\n",
        "a, b = MMQ(y.T,mx)\n",
        "yEstimado = a*x+b # Y estimado\n",
        "print(a, b)\n",
        "print(y, '\\n', yEstimado)\n",
        "print(RMSE(y,yEstimado))\n",
        "print(calcular_r2(y,yEstimado))"
      ]
    },
    {
      "cell_type": "code",
      "execution_count": 8,
      "metadata": {
        "colab": {
          "base_uri": "https://localhost:8080/"
        },
        "id": "PinRqflZd-E5",
        "outputId": "2c350d3a-62cf-464b-a951-5fb21404b6f9"
      },
      "outputs": [
        {
          "name": "stdout",
          "output_type": "stream",
          "text": [
            "[[-0.00619969]] [[56.06261517]] [[32.32121698]]\n",
            "[[ 72.74929145 143.93331154 148.04003844 201.41325779 287.06042949\n",
            "  331.06678746 409.84059158 468.44610692 521.56227224 550.71980018]] \n",
            " [[ 72.55322876 143.95425191 148.25116254 201.72483671 286.69578903\n",
            "  330.79556521 410.20622248 468.59509597 521.02123377 551.03450072]]\n",
            "0.9667992553967878\n",
            "0.999996412100833\n"
          ]
        }
      ],
      "source": [
        "tam = np.size(x.T,0) # Quantidade de valores analisados\n",
        "mx = np.concatenate((np.power(x.T,2), x.T, np.ones((tam,1))),1)\n",
        "a, b, c = MMQ(y.T,mx)\n",
        "yEstimado = a*np.power(x,2)+b*x+c # Y estimado\n",
        "print(a, b, c)\n",
        "print(y, '\\n', yEstimado)\n",
        "print(RMSE(y,yEstimado))\n",
        "print(calcular_r2(y,yEstimado))"
      ]
    },
    {
      "cell_type": "code",
      "execution_count": 9,
      "metadata": {
        "colab": {
          "base_uri": "https://localhost:8080/"
        },
        "id": "3alDMVN8etLJ",
        "outputId": "a333b214-7311-414b-b8b0-123855547457"
      },
      "outputs": [
        {
          "name": "stdout",
          "output_type": "stream",
          "text": [
            "[[-0.00397141]] [[0.05358328]] [[55.81515724]] [[32.56450819]]\n",
            "[[ 72.74929145 143.93331154 148.04003844 201.41325779 287.06042949\n",
            "  331.06678746 409.84059158 468.44610692 521.56227224 550.71980018]] \n",
            " [[ 72.64824786 143.91045735 148.20323939 201.6566763  286.67619347\n",
            "  330.81677619 410.28156368 468.6612201  521.01862671 550.95888604]]\n",
            "0.948791215620589\n",
            "0.9999965445156924\n"
          ]
        }
      ],
      "source": [
        "tam = np.size(x.T,0) # Quantidade de valores analisados\n",
        "mx = np.concatenate((np.power(x.T,3), np.power(x.T,2), x.T, np.ones((tam,1))),1)\n",
        "a, b, c, d = MMQ(y.T,mx)\n",
        "yEstimado = a*np.power(x,3)+b*np.power(x,2)+c*x+d # Y estimado\n",
        "print(a, b, c, d)\n",
        "print(y, '\\n', yEstimado)\n",
        "print(RMSE(y,yEstimado))\n",
        "print(calcular_r2(y,yEstimado))"
      ]
    },
    {
      "cell_type": "markdown",
      "metadata": {
        "id": "lWgCb9SajwCf"
      },
      "source": [
        "## Caso 2: Sistema de 2º Ordem sendo avaliado por diversas ordens"
      ]
    },
    {
      "cell_type": "code",
      "execution_count": 10,
      "metadata": {
        "id": "S5Ay3Uo9kAzJ"
      },
      "outputs": [],
      "source": [
        "x = np.matrix(np.arange(0,10,1)+np.random.uniform(0,1,10))\n",
        "y = np.matrix((56*np.power(x,2)+30*x+32)+(np.random.uniform(0,1,10)))"
      ]
    },
    {
      "cell_type": "code",
      "execution_count": 11,
      "metadata": {
        "colab": {
          "base_uri": "https://localhost:8080/"
        },
        "id": "GKbbZLICkArJ",
        "outputId": "701e7fbb-a81b-4244-e3ee-c8d01ad03799"
      },
      "outputs": [
        {
          "name": "stdout",
          "output_type": "stream",
          "text": [
            "[[606.02124037]] [[-959.15785632]]\n",
            "[[  79.48803211  126.29537903  534.13229665 1006.17857889 1406.81112419\n",
            "  2099.55944309 2404.21066187 3422.77174002 4605.56062466 5844.43420679]] \n",
            " [[-543.06436605 -320.38361779  699.76640205 1410.79263027 1884.53839483\n",
            "  2563.637324   2825.51664445 3596.86600933 4357.07496757 5054.69769863]]\n",
            "1454.327626924471\n",
            "0.9381915505875313\n"
          ]
        }
      ],
      "source": [
        "tam = np.size(x.T,0) # Quantidade de valores analisados\n",
        "mx = np.concatenate((x.T, np.ones((tam,1))),1)\n",
        "a, b = MMQ(y.T,mx)\n",
        "yEstimado = a*x+b # Y estimado\n",
        "print(a, b)\n",
        "print(y, '\\n', yEstimado)\n",
        "print(RMSE(y,yEstimado))\n",
        "print(calcular_r2(y,yEstimado))"
      ]
    },
    {
      "cell_type": "code",
      "execution_count": 12,
      "metadata": {
        "colab": {
          "base_uri": "https://localhost:8080/"
        },
        "id": "LhIn0YSzkAia",
        "outputId": "1d3cd912-783a-4828-e237-0c4ca45b6e09"
      },
      "outputs": [
        {
          "name": "stdout",
          "output_type": "stream",
          "text": [
            "[[55.98227618]] [[30.17919821]] [[32.26162607]]\n",
            "[[  79.48803211  126.29537903  534.13229665 1006.17857889 1406.81112419\n",
            "  2099.55944309 2404.21066187 3422.77174002 4605.56062466 5844.43420679]] \n",
            " [[  79.37368108  126.26891784  534.37039556 1006.43956935 1406.52883726\n",
            "  2099.38159557 2404.1273732  3423.22217978 4605.07516973 5844.65436792]]\n",
            "0.8624787034632647\n",
            "0.9999999782619742\n"
          ]
        }
      ],
      "source": [
        "tam = np.size(x.T,0) # Quantidade de valores analisados\n",
        "mx = np.concatenate((np.power(x.T,2), x.T, np.ones((tam,1))),1)\n",
        "a, b, c = MMQ(y.T,mx)\n",
        "yEstimado = a*np.power(x,2)+b*x+c # Y estimado\n",
        "print(a, b, c)\n",
        "print(y, '\\n', yEstimado)\n",
        "print(RMSE(y,yEstimado))\n",
        "print(calcular_r2(y,yEstimado))"
      ]
    },
    {
      "cell_type": "code",
      "execution_count": 13,
      "metadata": {
        "colab": {
          "base_uri": "https://localhost:8080/"
        },
        "id": "Ct8U1TOAkATg",
        "outputId": "5b7e90bb-19cf-41ca-94e6-687a04276ce0"
      },
      "outputs": [
        {
          "name": "stdout",
          "output_type": "stream",
          "text": [
            "[[-0.0044488]] [[56.05240156]] [[29.88414273]] [[32.51673051]]\n",
            "[[  79.48803211  126.29537903  534.13229665 1006.17857889 1406.81112419\n",
            "  2099.55944309 2404.21066187 3422.77174002 4605.56062466 5844.43420679]] \n",
            " [[  79.45781917  126.28572065  534.25203451 1006.34719016 1406.48383659\n",
            "  2099.41728183 2404.19122608 3423.33218158 4605.13513429 5844.53966241]]\n",
            "0.8232468944348953\n",
            "0.9999999801946035\n"
          ]
        }
      ],
      "source": [
        "tam = np.size(x.T,0) # Quantidade de valores analisados\n",
        "mx = np.concatenate((np.power(x.T,3), np.power(x.T,2), x.T, np.ones((tam,1))),1)\n",
        "a, b, c, d = MMQ(y.T,mx)\n",
        "yEstimado = a*np.power(x,3)+b*np.power(x,2)+c*x+d # Y estimado\n",
        "print(a, b, c, d)\n",
        "print(y, '\\n', yEstimado)\n",
        "print(RMSE(y,yEstimado))\n",
        "print(calcular_r2(y,yEstimado))"
      ]
    },
    {
      "cell_type": "markdown",
      "metadata": {
        "id": "x44DHEgukJ0l"
      },
      "source": [
        "## Caso 3: Pontos de um arquivo sendo avaliado por diversas ordens"
      ]
    },
    {
      "cell_type": "code",
      "execution_count": 14,
      "metadata": {
        "colab": {
          "base_uri": "https://localhost:8080/"
        },
        "id": "iM4CI1lsgnN_",
        "outputId": "4ed60c5b-705c-442e-9766-6927877a3f3c"
      },
      "outputs": [
        {
          "name": "stdout",
          "output_type": "stream",
          "text": [
            "[[ 800.9   909.2   989.15 1083.45 1195.55 1299.25 1348.6  1409.55 1493.3 ]] [[ 4.13  7.78 10.16 12.65 16.13 19.05 20.55 22.96 25.16]]\n"
          ]
        }
      ],
      "source": [
        "input = np.asmatrix(np.loadtxt('dados/dadosexp.txt', dtype='f', delimiter=','))\n",
        "print(input[:,0].T,input[:,1].T)\n",
        "x = input[:,0].T\n",
        "y = input[:,1].T"
      ]
    },
    {
      "cell_type": "code",
      "execution_count": 15,
      "metadata": {
        "id": "99fgQLaR1rQk"
      },
      "outputs": [
        {
          "name": "stdout",
          "output_type": "stream",
          "text": [
            "[[0.03008989]] [[-19.80499247]]\n",
            "[[ 4.13  7.78 10.16 12.65 16.13 19.05 20.55 22.96 25.16]] \n",
            " [[ 4.29399943  7.55273392  9.95842082 12.79589504 16.1689744  19.2892943\n",
            "  20.77422953 22.6082104  25.12823851]]\n",
            "0.6117922901583075\n",
            "0.9990934798974811\n"
          ]
        }
      ],
      "source": [
        "tam = np.size(x.T,0) # Quantidade de valores analisados\n",
        "mx = np.concatenate((x.T, np.ones((tam,1))),1)\n",
        "a, b = MMQ(y.T,mx)\n",
        "yEstimado = a*x+b # Y estimado\n",
        "print(a, b)\n",
        "print(y, '\\n', yEstimado)\n",
        "print(RMSE(y,yEstimado))\n",
        "print(calcular_r2(y,yEstimado))"
      ]
    },
    {
      "cell_type": "code",
      "execution_count": 16,
      "metadata": {},
      "outputs": [
        {
          "name": "stdout",
          "output_type": "stream",
          "text": [
            "[[1.51579282e-05]] [[-0.00521078]] [[-9.28100936e-06]]\n",
            "[[ 4.13  7.78 10.16 12.65 16.13 19.05 20.55 22.96 25.16]] \n",
            " [[ 5.54959262  7.79257144  9.67653479 12.14771517 15.43607513 18.8172347\n",
            "  20.54079022 22.7713846  26.02008075]]\n",
            "1.9525722318499654\n",
            "0.9907661320957912\n"
          ]
        }
      ],
      "source": [
        "tam = np.size(x.T,0) # Quantidade de valores analisados\n",
        "mx = np.concatenate((np.power(x.T,2), x.T, np.ones((tam,1))),1)\n",
        "a, b, c = MMQ(y.T,mx)\n",
        "yEstimado = a*np.power(x,2)+b*x+c # Y estimado\n",
        "print(a, b, c)\n",
        "print(y, '\\n', yEstimado)\n",
        "print(RMSE(y,yEstimado))\n",
        "print(calcular_r2(y,yEstimado))"
      ]
    },
    {
      "cell_type": "code",
      "execution_count": 17,
      "metadata": {},
      "outputs": [
        {
          "name": "stdout",
          "output_type": "stream",
          "text": [
            "[[3.33800336e-09]] [[6.72008657e-06]] [[1.15577957e-08]] [[1.52574693e-11]]\n",
            "[[ 4.13  7.78 10.16 12.65 16.13 19.05 20.55 22.96 25.16]] \n",
            " [[ 6.02537988  8.06392877  9.80558969 12.13382706 15.30943974 18.6647682\n",
            "  20.4091994  22.69990076 26.10091541]]\n",
            "2.4206691426861875\n",
            "0.9858081076567031\n"
          ]
        }
      ],
      "source": [
        "tam = np.size(x.T,0) # Quantidade de valores analisados\n",
        "mx = np.concatenate((np.power(x.T,3), np.power(x.T,2), x.T, np.ones((tam,1))),1)\n",
        "a, b, c, d = MMQ(y.T,mx)\n",
        "yEstimado = a*np.power(x,3)+b*np.power(x,2)+c*x+d # Y estimado\n",
        "print(a, b, c, d)\n",
        "print(y, '\\n', yEstimado)\n",
        "print(RMSE(y,yEstimado))\n",
        "print(calcular_r2(y,yEstimado))"
      ]
    }
  ],
  "metadata": {
    "colab": {
      "provenance": []
    },
    "kernelspec": {
      "display_name": "Python 3",
      "name": "python3"
    },
    "language_info": {
      "codemirror_mode": {
        "name": "ipython",
        "version": 3
      },
      "file_extension": ".py",
      "mimetype": "text/x-python",
      "name": "python",
      "nbconvert_exporter": "python",
      "pygments_lexer": "ipython3",
      "version": "3.12.4"
    }
  },
  "nbformat": 4,
  "nbformat_minor": 0
}
