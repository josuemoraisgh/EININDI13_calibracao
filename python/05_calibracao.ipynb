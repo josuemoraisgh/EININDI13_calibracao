{
  "cells": [
    {
      "cell_type": "code",
      "execution_count": null,
      "metadata": {
        "id": "THlmtrZLqhmo"
      },
      "outputs": [],
      "source": [
        "from scipy.stats import t\n",
        "from scipy.linalg import pinvh as inv\n",
        "from numpy.linalg import lstsq\n",
        "import numpy.matlib as mb\n",
        "import ipywidgets as widgets\n",
        "import math as mt\n",
        "import numpy as np\n",
        "import pandas as pd\n",
        "import re   "
      ]
    },
    {
      "cell_type": "markdown",
      "metadata": {
        "id": "tE1PP1ssSnRy"
      },
      "source": [
        "# Calibração"
      ]
    },
    {
      "cell_type": "code",
      "execution_count": null,
      "metadata": {
        "id": "niFZUHFGSaqU"
      },
      "outputs": [],
      "source": [
        "def MMQ(y, mx):\n",
        "  coef = (inv(mx.T @ mx)) @ (mx.T @ y) # Faz a linearização com os dados\n",
        "  return (coef)"
      ]
    },
    {
      "cell_type": "code",
      "execution_count": null,
      "metadata": {
        "id": "4rpNL-sUg5Sx"
      },
      "outputs": [],
      "source": [
        "def RMSE(yReal, yEstimado): # root-mean-square deviation\n",
        "  residuos = np.sum(np.power((yReal - yEstimado),2))**0.5\n",
        "  return(residuos)"
      ]
    },
    {
      "cell_type": "code",
      "execution_count": null,
      "metadata": {},
      "outputs": [],
      "source": [
        "def calcular_r2(y_true, y_pred):\n",
        "    \"\"\"\n",
        "    Calcula o coeficiente de determinação R².\n",
        "    \n",
        "    Parâmetros:\n",
        "    y_true: array-like, Valores observados (reais).\n",
        "    y_pred: array-like, Valores preditos pelo modelo.\n",
        "    \n",
        "    Retorno:\n",
        "    r2: float, Coeficiente de determinação R².\n",
        "    \"\"\"\n",
        "    # Converter para arrays do NumPy, caso não sejam\n",
        "    y_true = np.array(y_true)\n",
        "    y_pred = np.array(y_pred)\n",
        "    \n",
        "    # Média dos valores observados\n",
        "    y_mean = np.mean(y_true)\n",
        "    \n",
        "    # Soma dos quadrados dos resíduos (SSR)\n",
        "    ss_res = np.sum((y_true - y_pred) ** 2)\n",
        "    \n",
        "    # Soma total dos quadrados (SST)\n",
        "    ss_tot = np.sum((y_true - y_mean) ** 2)\n",
        "    \n",
        "    # Cálculo de R²\n",
        "    r2 = 1 - (ss_res / ss_tot)\n",
        "    \n",
        "    return r2"
      ]
    },
    {
      "cell_type": "markdown",
      "metadata": {
        "id": "obBN3LMNi5Pl"
      },
      "source": [
        "## Caso 1: Sistema de 1º Ordem sendo avaliado por diversas ordens"
      ]
    },
    {
      "cell_type": "code",
      "execution_count": null,
      "metadata": {
        "id": "TdX-MdZesT8-"
      },
      "outputs": [],
      "source": [
        "x = np.matrix([100, 25, 30, 40])\n",
        "y = np.matrix([100, 25, 30, 40])"
      ]
    },
    {
      "cell_type": "code",
      "execution_count": null,
      "metadata": {
        "colab": {
          "base_uri": "https://localhost:8080/"
        },
        "id": "JRaZlrBwYzqz",
        "outputId": "ffd3258c-14db-4f5b-c778-cd9d1b50d45a"
      },
      "outputs": [
        {
          "name": "stdout",
          "output_type": "stream",
          "text": [
            "[[55.99943849]] [[32.43062493]]\n",
            "[[ 72.74929145 143.93331154 148.04003844 201.41325779 287.06042949\n",
            "  331.06678746 409.84059158 468.44610692 521.56227224 550.71980018]] \n",
            " [[ 72.62048914 143.96242582 148.25642218 201.69992545 286.64616316\n",
            "  330.7443595  410.17156798 468.58853404 521.05140136 551.09059846]]\n",
            "0.974846444775614\n",
            "0.9999963521242358\n"
          ]
        }
      ],
      "source": [
        "tam = np.size(x.T,0) # Quantidade de valores analisados\n",
        "mx = np.concatenate((x.T, np.ones((tam,1))),1)\n",
        "a, b = MMQ(y.T,mx)\n",
        "yEstimado = a*x+b # Y estimado\n",
        "print(a, b)\n",
        "print(y, '\\n', yEstimado)\n",
        "print(RMSE(y,yEstimado))\n",
        "print(calcular_r2(y,yEstimado))"
      ]
    },
    {
      "cell_type": "code",
      "execution_count": null,
      "metadata": {
        "colab": {
          "base_uri": "https://localhost:8080/"
        },
        "id": "PinRqflZd-E5",
        "outputId": "2c350d3a-62cf-464b-a951-5fb21404b6f9"
      },
      "outputs": [
        {
          "name": "stdout",
          "output_type": "stream",
          "text": [
            "[[-0.00619969]] [[56.06261517]] [[32.32121698]]\n",
            "[[ 72.74929145 143.93331154 148.04003844 201.41325779 287.06042949\n",
            "  331.06678746 409.84059158 468.44610692 521.56227224 550.71980018]] \n",
            " [[ 72.55322876 143.95425191 148.25116254 201.72483671 286.69578903\n",
            "  330.79556521 410.20622248 468.59509597 521.02123377 551.03450072]]\n",
            "0.9667992553967878\n",
            "0.999996412100833\n"
          ]
        }
      ],
      "source": [
        "tam = np.size(x.T,0) # Quantidade de valores analisados\n",
        "mx = np.concatenate((np.power(x.T,2), x.T, np.ones((tam,1))),1)\n",
        "a, b, c = MMQ(y.T,mx)\n",
        "yEstimado = a*np.power(x,2)+b*x+c # Y estimado\n",
        "print(a, b, c)\n",
        "print(y, '\\n', yEstimado)\n",
        "print(RMSE(y,yEstimado))\n",
        "print(calcular_r2(y,yEstimado))"
      ]
    },
    {
      "cell_type": "code",
      "execution_count": null,
      "metadata": {
        "colab": {
          "base_uri": "https://localhost:8080/"
        },
        "id": "3alDMVN8etLJ",
        "outputId": "a333b214-7311-414b-b8b0-123855547457"
      },
      "outputs": [
        {
          "name": "stdout",
          "output_type": "stream",
          "text": [
            "[[-0.00397141]] [[0.05358328]] [[55.81515724]] [[32.56450819]]\n",
            "[[ 72.74929145 143.93331154 148.04003844 201.41325779 287.06042949\n",
            "  331.06678746 409.84059158 468.44610692 521.56227224 550.71980018]] \n",
            " [[ 72.64824786 143.91045735 148.20323939 201.6566763  286.67619347\n",
            "  330.81677619 410.28156368 468.6612201  521.01862671 550.95888604]]\n",
            "0.948791215620589\n",
            "0.9999965445156924\n"
          ]
        }
      ],
      "source": [
        "tam = np.size(x.T,0) # Quantidade de valores analisados\n",
        "mx = np.concatenate((np.power(x.T,3), np.power(x.T,2), x.T, np.ones((tam,1))),1)\n",
        "a, b, c, d = MMQ(y.T,mx)\n",
        "yEstimado = a*np.power(x,3)+b*np.power(x,2)+c*x+d # Y estimado\n",
        "print(a, b, c, d)\n",
        "print(y, '\\n', yEstimado)\n",
        "print(RMSE(y,yEstimado))\n",
        "print(calcular_r2(y,yEstimado))"
      ]
    }
  ],
  "metadata": {
    "colab": {
      "provenance": []
    },
    "kernelspec": {
      "display_name": "Python 3",
      "name": "python3"
    },
    "language_info": {
      "codemirror_mode": {
        "name": "ipython",
        "version": 3
      },
      "file_extension": ".py",
      "mimetype": "text/x-python",
      "name": "python",
      "nbconvert_exporter": "python",
      "pygments_lexer": "ipython3",
      "version": "3.12.4"
    }
  },
  "nbformat": 4,
  "nbformat_minor": 0
}
